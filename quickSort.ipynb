{
 "cells": [
  {
   "cell_type": "markdown",
   "metadata": {},
   "source": [
    "This is code of Quick Sort - fast option to sort an array with num data ( recursion function ). "
   ]
  },
  {
   "cell_type": "code",
   "execution_count": 23,
   "metadata": {},
   "outputs": [],
   "source": [
    "# recursion function witch get as arguments : array with nums, start of sorting and end of sorting\n",
    "def quickSort(array, start, end):\n",
    "    if start < end: # this is a statement to stop a recursion ( in quick Sort when will get a 1-element array to sort  \n",
    "                    # e.g [1], we dont need to sort it \n",
    "        th = createParts(array, start, end) # this is a variable with a treshold to know, after quicksorting, where is \n",
    "                                            # a start and the end of next subarray to sort\n",
    "        \n",
    "        quickSort(array, start, th - 1) # first recursion function of array under treshold\n",
    "        quickSort(array, th + 1, end)   # second recursion function of array abovee treshold"
   ]
  },
  {
   "cell_type": "markdown",
   "metadata": {},
   "source": [
    "Our next function is function to get a treshold from the array which we are sorting now (User must know teory of quick sorting)."
   ]
  },
  {
   "cell_type": "code",
   "execution_count": 24,
   "metadata": {},
   "outputs": [],
   "source": [
    "def createParts(array, start, end):\n",
    "    pivot = end # this is index of pivot value witch function compares with other elements in array\n",
    "    th = start  # at the start, our treshold is the index of first value in array from argument \n",
    "    for i in range(start,end): # function compare all elements with pivot value\n",
    "        if array[i] < array[pivot]:\n",
    "            array[th],array[i] = array[i], array[th] # swap element with element on the treshold index\n",
    "            th += 1 # move treshold 1 index right\n",
    "    if array[pivot] < array[th]: # after comparing we have to compare pivot value with value on the treshold index\n",
    "        array[pivot], array[th] = array[th], array[pivot] # and if if we should swap them, we do it\n",
    "    return th # quickSort function need a treshold to start new recursion functions so this function have to return it\n"
   ]
  },
  {
   "cell_type": "markdown",
   "metadata": {},
   "source": [
    "Its time to check how good our quickSort works :)"
   ]
  },
  {
   "cell_type": "code",
   "execution_count": 27,
   "metadata": {},
   "outputs": [
    {
     "data": {
      "text/plain": [
       "[1, 2, 2, 3, 3, 3, 4, 5, 5, 5, 7, 7, 8, 8]"
      ]
     },
     "execution_count": 27,
     "metadata": {},
     "output_type": "execute_result"
    }
   ],
   "source": [
    "array = [5,3,7,2,3,7,5,8,8,4,1,2,3,5]\n",
    "quickSort(array, 0, len(array) - 1)\n",
    "array"
   ]
  }
 ],
 "metadata": {
  "kernelspec": {
   "display_name": "Python 3",
   "language": "python",
   "name": "python3"
  },
  "language_info": {
   "codemirror_mode": {
    "name": "ipython",
    "version": 3
   },
   "file_extension": ".py",
   "mimetype": "text/x-python",
   "name": "python",
   "nbconvert_exporter": "python",
   "pygments_lexer": "ipython3",
   "version": "3.6.5"
  }
 },
 "nbformat": 4,
 "nbformat_minor": 2
}
